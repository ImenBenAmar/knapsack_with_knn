{
 "cells": [
  {
   "cell_type": "markdown",
   "metadata": {},
   "source": [
    "**with KNN**"
   ]
  },
  {
   "cell_type": "code",
   "execution_count": null,
   "metadata": {},
   "outputs": [],
   "source": [
    "import pandas as pd\n",
    "import numpy as np\n",
    "import seaborn as sns"
   ]
  },
  {
   "cell_type": "code",
   "execution_count": null,
   "metadata": {},
   "outputs": [],
   "source": [
    "df=pd.read_csv('knapsack_5_items.csv')"
   ]
  },
  {
   "cell_type": "code",
   "execution_count": null,
   "metadata": {},
   "outputs": [
    {
     "data": {
      "text/html": [
       "<div>\n",
       "<style scoped>\n",
       "    .dataframe tbody tr th:only-of-type {\n",
       "        vertical-align: middle;\n",
       "    }\n",
       "\n",
       "    .dataframe tbody tr th {\n",
       "        vertical-align: top;\n",
       "    }\n",
       "\n",
       "    .dataframe thead th {\n",
       "        text-align: right;\n",
       "    }\n",
       "</style>\n",
       "<table border=\"1\" class=\"dataframe\">\n",
       "  <thead>\n",
       "    <tr style=\"text-align: right;\">\n",
       "      <th></th>\n",
       "      <th>Weights</th>\n",
       "      <th>Prices</th>\n",
       "      <th>Capacity</th>\n",
       "      <th>Best picks</th>\n",
       "      <th>Best price</th>\n",
       "    </tr>\n",
       "  </thead>\n",
       "  <tbody>\n",
       "    <tr>\n",
       "      <th>0</th>\n",
       "      <td>[46 40 42 38 10]</td>\n",
       "      <td>[12 19 19 15  8]</td>\n",
       "      <td>40</td>\n",
       "      <td>[0. 1. 0. 0. 0.]</td>\n",
       "      <td>19.0</td>\n",
       "    </tr>\n",
       "    <tr>\n",
       "      <th>1</th>\n",
       "      <td>[11 31  4  6  7]</td>\n",
       "      <td>[ 2  8 18 16  3]</td>\n",
       "      <td>64</td>\n",
       "      <td>[1. 1. 1. 1. 1.]</td>\n",
       "      <td>47.0</td>\n",
       "    </tr>\n",
       "    <tr>\n",
       "      <th>2</th>\n",
       "      <td>[32 49 27 37 24]</td>\n",
       "      <td>[19 16 16  4  1]</td>\n",
       "      <td>87</td>\n",
       "      <td>[1. 0. 1. 0. 1.]</td>\n",
       "      <td>36.0</td>\n",
       "    </tr>\n",
       "    <tr>\n",
       "      <th>3</th>\n",
       "      <td>[20 35 22 23 16]</td>\n",
       "      <td>[19 17 19  9  1]</td>\n",
       "      <td>21</td>\n",
       "      <td>[1. 0. 0. 0. 0.]</td>\n",
       "      <td>19.0</td>\n",
       "    </tr>\n",
       "    <tr>\n",
       "      <th>4</th>\n",
       "      <td>[ 7 12 19 13 20]</td>\n",
       "      <td>[10 11 18 15  5]</td>\n",
       "      <td>50</td>\n",
       "      <td>[0. 1. 1. 1. 0.]</td>\n",
       "      <td>44.0</td>\n",
       "    </tr>\n",
       "  </tbody>\n",
       "</table>\n",
       "</div>"
      ],
      "text/plain": [
       "            Weights            Prices  Capacity        Best picks  Best price\n",
       "0  [46 40 42 38 10]  [12 19 19 15  8]        40  [0. 1. 0. 0. 0.]        19.0\n",
       "1  [11 31  4  6  7]  [ 2  8 18 16  3]        64  [1. 1. 1. 1. 1.]        47.0\n",
       "2  [32 49 27 37 24]  [19 16 16  4  1]        87  [1. 0. 1. 0. 1.]        36.0\n",
       "3  [20 35 22 23 16]  [19 17 19  9  1]        21  [1. 0. 0. 0. 0.]        19.0\n",
       "4  [ 7 12 19 13 20]  [10 11 18 15  5]        50  [0. 1. 1. 1. 0.]        44.0"
      ]
     },
     "metadata": {},
     "output_type": "display_data"
    }
   ],
   "source": [
    "df.head()"
   ]
  },
  {
   "cell_type": "code",
   "execution_count": null,
   "metadata": {},
   "outputs": [
    {
     "data": {
      "text/plain": [
       "(10000, 5)"
      ]
     },
     "metadata": {},
     "output_type": "display_data"
    }
   ],
   "source": [
    "\n",
    "df.shape"
   ]
  },
  {
   "cell_type": "code",
   "execution_count": null,
   "metadata": {},
   "outputs": [
    {
     "name": "stdout",
     "output_type": "stream",
     "text": [
      "<class 'pandas.core.frame.DataFrame'>\n",
      "RangeIndex: 10000 entries, 0 to 9999\n",
      "Data columns (total 5 columns):\n",
      " #   Column      Non-Null Count  Dtype  \n",
      "---  ------      --------------  -----  \n",
      " 0   Weights     10000 non-null  object \n",
      " 1   Prices      10000 non-null  object \n",
      " 2   Capacity    10000 non-null  int64  \n",
      " 3   Best picks  9879 non-null   object \n",
      " 4   Best price  10000 non-null  float64\n",
      "dtypes: float64(1), int64(1), object(3)\n",
      "memory usage: 390.8+ KB\n"
     ]
    }
   ],
   "source": [
    "df.info()"
   ]
  },
  {
   "cell_type": "code",
   "execution_count": null,
   "metadata": {},
   "outputs": [
    {
     "data": {
      "text/plain": [
       "Weights         0\n",
       "Prices          0\n",
       "Capacity        0\n",
       "Best picks    121\n",
       "Best price      0\n",
       "dtype: int64"
      ]
     },
     "metadata": {},
     "output_type": "display_data"
    }
   ],
   "source": [
    "df.isnull().sum()"
   ]
  },
  {
   "cell_type": "code",
   "execution_count": null,
   "metadata": {},
   "outputs": [],
   "source": [
    "df.dropna(inplace=True)"
   ]
  },
  {
   "cell_type": "code",
   "execution_count": null,
   "metadata": {},
   "outputs": [
    {
     "data": {
      "text/html": [
       "<div>\n",
       "<style scoped>\n",
       "    .dataframe tbody tr th:only-of-type {\n",
       "        vertical-align: middle;\n",
       "    }\n",
       "\n",
       "    .dataframe tbody tr th {\n",
       "        vertical-align: top;\n",
       "    }\n",
       "\n",
       "    .dataframe thead th {\n",
       "        text-align: right;\n",
       "    }\n",
       "</style>\n",
       "<table border=\"1\" class=\"dataframe\">\n",
       "  <thead>\n",
       "    <tr style=\"text-align: right;\">\n",
       "      <th></th>\n",
       "      <th>Capacity</th>\n",
       "      <th>Best price</th>\n",
       "    </tr>\n",
       "  </thead>\n",
       "  <tbody>\n",
       "    <tr>\n",
       "      <th>count</th>\n",
       "      <td>9879.000000</td>\n",
       "      <td>9879.000000</td>\n",
       "    </tr>\n",
       "    <tr>\n",
       "      <th>mean</th>\n",
       "      <td>57.659682</td>\n",
       "      <td>31.309647</td>\n",
       "    </tr>\n",
       "    <tr>\n",
       "      <th>std</th>\n",
       "      <td>24.367130</td>\n",
       "      <td>13.282681</td>\n",
       "    </tr>\n",
       "    <tr>\n",
       "      <th>min</th>\n",
       "      <td>15.000000</td>\n",
       "      <td>1.000000</td>\n",
       "    </tr>\n",
       "    <tr>\n",
       "      <th>25%</th>\n",
       "      <td>36.000000</td>\n",
       "      <td>21.000000</td>\n",
       "    </tr>\n",
       "    <tr>\n",
       "      <th>50%</th>\n",
       "      <td>58.000000</td>\n",
       "      <td>31.000000</td>\n",
       "    </tr>\n",
       "    <tr>\n",
       "      <th>75%</th>\n",
       "      <td>79.000000</td>\n",
       "      <td>40.000000</td>\n",
       "    </tr>\n",
       "    <tr>\n",
       "      <th>max</th>\n",
       "      <td>99.000000</td>\n",
       "      <td>82.000000</td>\n",
       "    </tr>\n",
       "  </tbody>\n",
       "</table>\n",
       "</div>"
      ],
      "text/plain": [
       "          Capacity   Best price\n",
       "count  9879.000000  9879.000000\n",
       "mean     57.659682    31.309647\n",
       "std      24.367130    13.282681\n",
       "min      15.000000     1.000000\n",
       "25%      36.000000    21.000000\n",
       "50%      58.000000    31.000000\n",
       "75%      79.000000    40.000000\n",
       "max      99.000000    82.000000"
      ]
     },
     "metadata": {},
     "output_type": "display_data"
    }
   ],
   "source": [
    "df.describe()"
   ]
  },
  {
   "cell_type": "code",
   "execution_count": null,
   "metadata": {},
   "outputs": [
    {
     "data": {
      "text/plain": [
       "<seaborn.axisgrid.PairGrid at 0x297c59b6b70>"
      ]
     },
     "metadata": {},
     "output_type": "display_data"
    },
    {
     "data": {
      "image/png": "[encoded data removed]",
      "text/plain": [
       "<Figure size 500x500 with 6 Axes>"
      ]
     },
     "metadata": {},
     "output_type": "display_data"
    }
   ],
   "source": [
    "sns.pairplot(df)"
   ]
  },
  {
   "cell_type": "code",
   "execution_count": null,
   "metadata": {},
   "outputs": [],
   "source": [
    "#trasformer les colonne en ndarray\n",
    "weights = np.array([np.fromstring(obj.strip('[]'), sep=' ') for obj in df['Weights']])\n"
   ]
  },
  {
   "cell_type": "code",
   "execution_count": null,
   "metadata": {},
   "outputs": [
    {
     "data": {
      "text/plain": [
       "array([[46., 40., 42., 38., 10.],\n",
       "       [11., 31.,  4.,  6.,  7.],\n",
       "       [32., 49., 27., 37., 24.],\n",
       "       ...,\n",
       "       [43., 43.,  5., 15., 23.],\n",
       "       [49.,  9., 15., 21., 39.],\n",
       "       [25., 36., 42., 19., 39.]])"
      ]
     },
     "metadata": {},
     "output_type": "display_data"
    }
   ],
   "source": [
    "weights"
   ]
  },
  {
   "cell_type": "code",
   "execution_count": null,
   "metadata": {},
   "outputs": [
    {
     "data": {
      "text/plain": [
       "array([[12., 19., 19., 15.,  8.],\n",
       "       [ 2.,  8., 18., 16.,  3.],\n",
       "       [19., 16., 16.,  4.,  1.],\n",
       "       ...,\n",
       "       [15.,  5.,  7.,  2.,  7.],\n",
       "       [11., 15.,  3., 12., 19.],\n",
       "       [15., 12.,  7., 18., 12.]])"
      ]
     },
     "metadata": {},
     "output_type": "display_data"
    }
   ],
   "source": [
    "Prices=np.array([np.fromstring(obj.strip('[]'), sep=' ') for obj in df['Prices']])\n",
    "Prices"
   ]
  },
  {
   "cell_type": "code",
   "execution_count": null,
   "metadata": {},
   "outputs": [],
   "source": [
    "Best_picks=np.array([np.fromstring(obj.strip('[]'), sep=' ') for obj in df['Best picks']])"
   ]
  },
  {
   "cell_type": "code",
   "execution_count": null,
   "metadata": {},
   "outputs": [
    {
     "data": {
      "text/plain": [
       "array([[0., 1., 0., 0., 0.],\n",
       "       [1., 1., 1., 1., 1.],\n",
       "       [1., 0., 1., 0., 1.],\n",
       "       ...,\n",
       "       [1., 0., 1., 0., 0.],\n",
       "       [0., 1., 1., 0., 1.],\n",
       "       [1., 0., 0., 1., 0.]])"
      ]
     },
     "metadata": {},
     "output_type": "display_data"
    }
   ],
   "source": [
    "Best_picks"
   ]
  },
  {
   "cell_type": "code",
   "execution_count": null,
   "metadata": {},
   "outputs": [],
   "source": [
    "capacity=df['Capacity'].values"
   ]
  },
  {
   "cell_type": "code",
   "execution_count": null,
   "metadata": {},
   "outputs": [
    {
     "data": {
      "text/plain": [
       "array([40, 64, 87, ..., 62, 65, 79], dtype=int64)"
      ]
     },
     "metadata": {},
     "output_type": "display_data"
    }
   ],
   "source": [
    "capacity\n"
   ]
  },
  {
   "cell_type": "code",
   "execution_count": null,
   "metadata": {},
   "outputs": [],
   "source": [
    "# Combiner les poids et les prix dans une seule matrice de caractéristiques \n",
    "features = np.hstack((weights, Prices))\n"
   ]
  },
  {
   "cell_type": "code",
   "execution_count": null,
   "metadata": {},
   "outputs": [
    {
     "data": {
      "text/plain": [
       "array([[46., 40., 42., ..., 19., 15.,  8.],\n",
       "       [11., 31.,  4., ..., 18., 16.,  3.],\n",
       "       [32., 49., 27., ..., 16.,  4.,  1.],\n",
       "       ...,\n",
       "       [43., 43.,  5., ...,  7.,  2.,  7.],\n",
       "       [49.,  9., 15., ...,  3., 12., 19.],\n",
       "       [25., 36., 42., ...,  7., 18., 12.]])"
      ]
     },
     "metadata": {},
     "output_type": "display_data"
    }
   ],
   "source": [
    "features"
   ]
  },
  {
   "cell_type": "code",
   "execution_count": null,
   "metadata": {},
   "outputs": [],
   "source": [
    "# Normaliser les données\n",
    "from sklearn.preprocessing import StandardScaler\n",
    "scaler = StandardScaler() \n",
    "features_normalized = scaler.fit_transform(features)"
   ]
  },
  {
   "cell_type": "code",
   "execution_count": null,
   "metadata": {},
   "outputs": [],
   "source": [
    "from sklearn.neighbors import KNeighborsClassifier\n",
    "knn = KNeighborsClassifier(n_neighbors=3)\n"
   ]
  },
  {
   "cell_type": "code",
   "execution_count": null,
   "metadata": {},
   "outputs": [
    {
     "name": "stdout",
     "output_type": "stream",
     "text": [
      "Exactitude du modèle KNN : 47.23%\n"
     ]
    }
   ],
   "source": [
    "from sklearn.metrics import accuracy_score\n",
    "# Calculer l'exactitude\n",
    "accuracy = accuracy_score(Best_picks, knn.predict(features_normalized))\n",
    "print(f'Exactitude du modèle KNN : {accuracy * 100:.2f}%')\n"
   ]
  },
  {
   "cell_type": "code",
   "execution_count": null,
   "metadata": {},
   "outputs": [],
   "source": [
    "import os\n",
    "import time\n",
    "import csv\n",
    "import random\n",
    "# Classe Objet\n",
    "class Objet:\n",
    "    def __init__(self, profit, volume):\n",
    "        self.profit = profit\n",
    "        self.volume = volume\n",
    "# Recherche locale avec tabou\n",
    "def recherche_locale_avec_tabou(solution_initiale, objets, capacite, tabou_size=10):\n",
    "    solution = solution_initiale[:]\n",
    "    tabou_list = []\n",
    "    meilleur_profit = calculer_profit(solution)\n",
    "\n",
    "    for _ in range(100):  # Nombre max d'itérations\n",
    "        amelioration = False\n",
    "        for objet in objets:\n",
    "            if objet not in solution and objet not in tabou_list:\n",
    "                voisin = solution + [objet]\n",
    "                if calculer_volume(voisin) <= capacite:  # Respecter la contrainte de capacité\n",
    "                    profit_voisin = calculer_profit(voisin)\n",
    "                    if profit_voisin > meilleur_profit:\n",
    "                        solution = voisin\n",
    "                        meilleur_profit = profit_voisin\n",
    "                        tabou_list.append(objet)\n",
    "                        if len(tabou_list) > tabou_size:\n",
    "                            tabou_list.pop(0)\n",
    "                        amelioration = True\n",
    "        if not amelioration:\n",
    "            break\n",
    "    return solution\n",
    "# Calculer le profit total d'une solution\n",
    "def calculer_profit(solution):\n",
    "    return sum(objet.profit for objet in solution)\n",
    "\n",
    "# Calculer le volume total d'une solution\n",
    "def calculer_volume(solution):\n",
    "    return sum(objet.volume for objet in solution)\n",
    "# Lire les données d'une instance\n",
    "def lire_fichier(filepath):\n",
    "    objets = []\n",
    "    try:\n",
    "        with open(filepath, 'r') as file:\n",
    "            N = int(file.readline().strip())  # Nombre d'objets\n",
    "            capacite = int(file.readline().strip())  # Capacité du sac\n",
    "            for _ in range(N):\n",
    "                profit, volume = map(int, file.readline().strip().split())\n",
    "                objets.append(Objet(profit, volume))\n",
    "    except Exception as e:\n",
    "        raise ValueError(f\"Erreur dans le fichier {filepath}: {e}\")\n",
    "    return objets, capacite"
   ]
  },
  {
   "cell_type": "code",
   "execution_count": null,
   "metadata": {},
   "outputs": [
    {
     "name": "stdout",
     "output_type": "stream",
     "text": [
      "Nombre d'instances à résoudre : 25\n",
      "Traitement de l'instance : test100-SC(1).txt\n",
      "Instance : test100-SC(1).txt, Profit : 179, Capacité utilisée : 99, Capacité maximale : 101, Temps : 5.731s\n",
      "Traitement de l'instance : test100-SC(2).txt\n",
      "Instance : test100-SC(2).txt, Profit : 211, Capacité utilisée : 101, Capacité maximale : 101, Temps : 5.832s\n",
      "Traitement de l'instance : test100-SC(3).txt\n",
      "Instance : test100-SC(3).txt, Profit : 181, Capacité utilisée : 101, Capacité maximale : 101, Temps : 5.698s\n",
      "Traitement de l'instance : test100-SC(4).txt\n",
      "Instance : test100-SC(4).txt, Profit : 211, Capacité utilisée : 101, Capacité maximale : 101, Temps : 5.707s\n",
      "Traitement de l'instance : test100-SC(5).txt\n",
      "Instance : test100-SC(5).txt, Profit : 181, Capacité utilisée : 101, Capacité maximale : 101, Temps : 6.179s\n",
      "Traitement de l'instance : test250-SC(1).txt\n",
      "Instance : test250-SC(1).txt, Profit : 201, Capacité utilisée : 101, Capacité maximale : 101, Temps : 14.145s\n",
      "Traitement de l'instance : test250-SC(2).txt\n",
      "Instance : test250-SC(2).txt, Profit : 201, Capacité utilisée : 101, Capacité maximale : 101, Temps : 14.299s\n",
      "Traitement de l'instance : test250-SC(3).txt\n",
      "Instance : test250-SC(3).txt, Profit : 191, Capacité utilisée : 101, Capacité maximale : 101, Temps : 14.416s\n",
      "Traitement de l'instance : test250-SC(4).txt\n",
      "Instance : test250-SC(4).txt, Profit : 211, Capacité utilisée : 101, Capacité maximale : 101, Temps : 14.253s\n",
      "Traitement de l'instance : test250-SC(5).txt\n",
      "Instance : test250-SC(5).txt, Profit : 191, Capacité utilisée : 101, Capacité maximale : 101, Temps : 14.695s\n",
      "Traitement de l'instance : test500-SC(1).txt\n",
      "Instance : test500-SC(1).txt, Profit : 191, Capacité utilisée : 101, Capacité maximale : 101, Temps : 28.531s\n",
      "Traitement de l'instance : test500-SC(2).txt\n",
      "Instance : test500-SC(2).txt, Profit : 211, Capacité utilisée : 101, Capacité maximale : 101, Temps : 29.491s\n",
      "Traitement de l'instance : test500-SC(3).txt\n",
      "Instance : test500-SC(3).txt, Profit : 191, Capacité utilisée : 101, Capacité maximale : 101, Temps : 31.076s\n",
      "Traitement de l'instance : test500-SC(4).txt\n",
      "Instance : test500-SC(4).txt, Profit : 211, Capacité utilisée : 101, Capacité maximale : 101, Temps : 30.249s\n",
      "Traitement de l'instance : test500-SC(5).txt\n",
      "Instance : test500-SC(5).txt, Profit : 225, Capacité utilisée : 125, Capacité maximale : 125, Temps : 28.747s\n",
      "Traitement de l'instance : test1000-SC(1).txt\n",
      "Instance : test1000-SC(1).txt, Profit : 201, Capacité utilisée : 101, Capacité maximale : 101, Temps : 59.420s\n",
      "Traitement de l'instance : test1000-SC(2).txt\n",
      "Instance : test1000-SC(2).txt, Profit : 201, Capacité utilisée : 101, Capacité maximale : 101, Temps : 58.381s\n",
      "Traitement de l'instance : test1000-SC(3).txt\n",
      "Instance : test1000-SC(3).txt, Profit : 244, Capacité utilisée : 154, Capacité maximale : 154, Temps : 59.925s\n",
      "Traitement de l'instance : test1000-SC(4).txt\n",
      "Instance : test1000-SC(4).txt, Profit : 331, Capacité utilisée : 201, Capacité maximale : 201, Temps : 59.793s\n",
      "Traitement de l'instance : test1000-SC(5).txt\n",
      "Instance : test1000-SC(5).txt, Profit : 399, Capacité utilisée : 249, Capacité maximale : 249, Temps : 58.000s\n",
      "Traitement de l'instance : test2000-SC(1).txt\n",
      "Instance : test2000-SC(1).txt, Profit : 191, Capacité utilisée : 101, Capacité maximale : 101, Temps : 130.627s\n",
      "Traitement de l'instance : test2000-SC(2).txt\n",
      "Instance : test2000-SC(2).txt, Profit : 332, Capacité utilisée : 202, Capacité maximale : 202, Temps : 141.390s\n",
      "Traitement de l'instance : test2000-SC(3).txt\n",
      "Instance : test2000-SC(3).txt, Profit : 454, Capacité utilisée : 304, Capacité maximale : 304, Temps : 123.555s\n",
      "Traitement de l'instance : test2000-SC(4).txt\n",
      "Instance : test2000-SC(4).txt, Profit : 590, Capacité utilisée : 400, Capacité maximale : 400, Temps : 124.069s\n",
      "Traitement de l'instance : test2000-SC(5).txt\n",
      "Instance : test2000-SC(5).txt, Profit : 684, Capacité utilisée : 494, Capacité maximale : 494, Temps : 124.767s\n",
      "=========================================================\n"
     ]
    }
   ],
   "source": [
    "\n",
    "# Fonction pour prédire sur de nouvelles instances avec KNN\n",
    "def knn_prediction(objets, model, scaler, subset_size=5):\n",
    "    aggregated_predictions = np.zeros(len(objets))\n",
    "    for start in range(0, len(objets), subset_size):\n",
    "        end = min(start + subset_size, len(objets))\n",
    "        subset = objets[start:end]\n",
    "        features = np.array([[obj.volume, obj.profit] for obj in subset]).flatten().reshape(1, -1)\n",
    "        features_normalized = scaler.transform(features)\n",
    "        if features_normalized.shape[1] == subset_size * 2:  # Assurez-vous que les dimensions correspondent\n",
    "            subset_predictions = model.predict(features_normalized)\n",
    "            for i, pred in enumerate(subset_predictions[0]):\n",
    "                if pred == 1:\n",
    "                    aggregated_predictions[start + i] = 1\n",
    "    return aggregated_predictions\n",
    "\n",
    "# Méthode GRASP avec KNN\n",
    "def grasp_avec_knn(objets, capacite, model, scaler, subset_size=5):\n",
    "    meilleure_solution = []\n",
    "    meilleur_profit = 0\n",
    "    max_iterations = 100\n",
    "\n",
    "    for _ in range(max_iterations):\n",
    "        predictions = knn_prediction(objets, model, scaler, subset_size)\n",
    "        solution_knn = [objets[i] for i, pred in enumerate(predictions) if pred == 1]\n",
    "        capacite_actuelle = sum(obj.volume for obj in solution_knn)\n",
    "        # Ajuster la solution si elle dépasse la capacité\n",
    "        while capacite_actuelle > capacite:\n",
    "            objet = random.choice(solution_knn)\n",
    "            solution_knn.remove(objet)\n",
    "            capacite_actuelle -= objet.volume\n",
    "        S = recherche_locale_avec_tabou(solution_knn, objets, capacite, tabou_size=5)\n",
    "        profit_S = calculer_profit(S)\n",
    "        if profit_S > meilleur_profit:\n",
    "            meilleure_solution = S\n",
    "            meilleur_profit = profit_S\n",
    "    return meilleure_solution\n",
    "\n",
    "# Résolution des instances et écriture des résultats\n",
    "with open(\"Resultat_knn.csv\", \"w\", newline='') as f_write:\n",
    "    writer = csv.writer(f_write, delimiter=\";\")\n",
    "    writer.writerow([\"Instance\", \"Profit\", \"Capacité utilisée\", \"Capacité maximale\", \"Temps écoulé (s)\"])\n",
    "\n",
    "    with open(\"all.txt\", \"r\") as liste:\n",
    "        nb_inst = int(liste.readline().strip())\n",
    "        print(f\"Nombre d'instances à résoudre : {nb_inst}\")\n",
    "        for j in range(nb_inst):\n",
    "            inst = liste.readline().strip()\n",
    "            print(f\"Traitement de l'instance : {inst}\")\n",
    "            try:\n",
    "                # Lecture des données\n",
    "                objets, capacite = lire_fichier(inst)\n",
    "            except Exception as e:\n",
    "                print(f\"Erreur lors de la lecture de l'instance {inst}: {e}\")\n",
    "                continue\n",
    "\n",
    "            # Résolution de l'instance\n",
    "            start_time = time.time()\n",
    "            solution = grasp_avec_knn(objets, capacite, knn, scaler, subset_size=5)\n",
    "            elapsed_time = time.time() - start_time\n",
    "\n",
    "            # Calcul des résultats\n",
    "            profit_solution = calculer_profit(solution)\n",
    "            volume_solution = calculer_volume(solution)\n",
    "\n",
    "            # Enregistrement dans le fichier CSV\n",
    "            writer.writerow([inst, profit_solution, volume_solution, capacite, round(elapsed_time, 3)])\n",
    "            print(f\"Instance : {inst}, Profit : {profit_solution}, Capacité utilisée : {volume_solution}, \"\n",
    "                  f\"Capacité maximale : {capacite}, Temps : {elapsed_time:.3f}s\")\n",
    "        print(\"=========================================================\")\n"
   ]
  },
  {
   "cell_type": "code",
   "execution_count": null,
   "metadata": {},
   "outputs": [],
   "source": []
  },
  {
   "cell_type": "code",
   "execution_count": null,
   "metadata": {},
   "outputs": [],
   "source": []
  },
  {
   "cell_type": "code",
   "execution_count": null,
   "metadata": {},
   "outputs": [],
   "source": []
  },
  {
   "cell_type": "code",
   "execution_count": null,
   "metadata": {},
   "outputs": [],
   "source": []
  },
  {
   "cell_type": "code",
   "execution_count": null,
   "metadata": {},
   "outputs": [],
   "source": []
  },
  {
   "cell_type": "code",
   "execution_count": null,
   "metadata": {},
   "outputs": [],
   "source": []
  }
 ],
 "metadata": {
  "language_info": {
   "name": "python"
  }
 },
 "nbformat": 4,
 "nbformat_minor": 2
}
